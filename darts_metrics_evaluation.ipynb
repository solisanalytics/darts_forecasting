{
 "cells": [
  {
   "cell_type": "markdown",
   "id": "656f284c-8081-4860-b560-b9cdec2c6135",
   "metadata": {},
   "source": [
    "# Darts - Metrics Evaluation"
   ]
  },
  {
   "cell_type": "code",
   "execution_count": null,
   "id": "c6859c94-9dd6-4940-a322-f3e719dafcee",
   "metadata": {},
   "outputs": [],
   "source": [
    "# importing libraries\n",
    "import datetime as dt\n",
    "import time\n",
    "import pprint\n",
    "import warnings\n",
    "import logging\n",
    "\n",
    "import pandas as pd\n",
    "import numpy as np\n",
    "import matplotlib.pyplot as plt\n",
    "\n",
    "from darts import TimeSeries\n",
    "from darts.models import ExponentialSmoothing, TBATS, AutoARIMA, Theta, Prophet\n",
    "from darts.models.forecasting.baselines import NaiveMean, NaiveDrift, NaiveSeasonal\n",
    "from darts.metrics import mape, mae, mase, rmse, r2_score\n",
    "from darts.utils.utils import SeasonalityMode\n",
    "from darts.utils.statistics import plot_acf, check_seasonality, plot_hist\n",
    "\n",
    "warnings.filterwarnings('ignore')\n",
    "\n",
    "logger = logging.getLogger('cmdstanpy')\n",
    "logger.addHandler(logging.NullHandler())\n",
    "logger.propogate = False\n",
    "logger.setLevel(logging.CRITICAL)"
   ]
  },
  {
   "cell_type": "code",
   "execution_count": null,
   "id": "75a28391-ecab-4a1e-96dc-09ae4a5b9608",
   "metadata": {},
   "outputs": [],
   "source": [
    "# reading chicago crime csv file\n",
    "df_chicago_crime = pd.read_csv('chicago_crime_primary_data.csv', index_col=None)\n",
    "df_chicago_crime.head()"
   ]
  },
  {
   "cell_type": "code",
   "execution_count": null,
   "id": "0daafd2b-e8b0-46c7-af95-a9bd4e02cb11",
   "metadata": {},
   "outputs": [],
   "source": [
    "# displaying data types\n",
    "df_chicago_crime.dtypes"
   ]
  },
  {
   "cell_type": "code",
   "execution_count": null,
   "id": "c597deb5-baae-4868-b21e-797a63c8a5a7",
   "metadata": {},
   "outputs": [],
   "source": [
    "# creating dictionary for datetime column\n",
    "dict_datetime = dict(\n",
    "    year=df_chicago_crime['case_year'], \n",
    "    month=df_chicago_crime['case_month'],\n",
    "    day=1)\n",
    "\n",
    "# creating datetime column\n",
    "df_chicago_crime['date'] = pd.to_datetime(dict_datetime)\n",
    "\n",
    "# display updated dataframe\n",
    "print(df_chicago_crime)"
   ]
  },
  {
   "cell_type": "code",
   "execution_count": null,
   "id": "735bcb40-81ac-405f-ac3c-44afe1362acc",
   "metadata": {},
   "outputs": [],
   "source": [
    "# dropping year and month columns\n",
    "df_chicago_crime.drop(['case_year', 'case_month'], axis=1, inplace=True)"
   ]
  },
  {
   "cell_type": "code",
   "execution_count": null,
   "id": "7c7e6dd3-dfb7-4ff3-b018-1bd78c87466b",
   "metadata": {},
   "outputs": [],
   "source": [
    "# re-arranging columns\n",
    "df_chicago_crime = df_chicago_crime.loc[:, ['primary_type', 'date', 'number_of_cases']]\n",
    "df_chicago_crime.columns"
   ]
  },
  {
   "cell_type": "code",
   "execution_count": null,
   "id": "81da2f43-0882-4869-9133-db540be2a79a",
   "metadata": {},
   "outputs": [],
   "source": [
    "# storing primary type with highest volume\n",
    "df_top_primary_type = (df_chicago_crime.groupby(['primary_type'])['number_of_cases']\n",
    "                    .sum()\n",
    "                    .reset_index()\n",
    "                    .sort_values(['number_of_cases'], ascending=False)\n",
    "                    .head(3))\n",
    "\n",
    "# displaying primary type\n",
    "print(df_top_primary_type)"
   ]
  },
  {
   "cell_type": "code",
   "execution_count": null,
   "id": "c87786ae-c286-4070-9da2-008ef46daa10",
   "metadata": {},
   "outputs": [],
   "source": [
    "# filtering on battery cases\n",
    "df_chicago_crime = df_chicago_crime.loc[df_chicago_crime['primary_type'] == 'BATTERY']\n",
    "\n",
    "# display filtered dataframe\n",
    "print(df_chicago_crime['primary_type'].unique())"
   ]
  },
  {
   "cell_type": "code",
   "execution_count": null,
   "id": "3af5d5e0-46a9-41b4-b0ef-33350a506920",
   "metadata": {},
   "outputs": [],
   "source": [
    "# creating function to convert dataframes to dart time-series object\n",
    "def df_to_timeseries(df):\n",
    "    series = TimeSeries.from_dataframe(\n",
    "        df,\n",
    "        'date',\n",
    "        'number_of_cases',\n",
    "        freq='MS',\n",
    "        fill_missing_dates=True,\n",
    "        fillna_value=0)\n",
    "    return series"
   ]
  },
  {
   "cell_type": "code",
   "execution_count": null,
   "id": "8f9f62b6-edcc-4492-bc8e-fdbbb1138acc",
   "metadata": {},
   "outputs": [],
   "source": [
    "# converting chicago crime dataframe to TimeSeries object\n",
    "series = df_to_timeseries(df_chicago_crime)\n",
    "\n",
    "print(series.head())"
   ]
  },
  {
   "cell_type": "markdown",
   "id": "e47384a3-3733-441d-ad80-652cb24e27db",
   "metadata": {},
   "source": [
    "### Plotting Time-Series"
   ]
  },
  {
   "cell_type": "code",
   "execution_count": null,
   "id": "fabdff88-4ba9-498e-a397-e296ba239409",
   "metadata": {},
   "outputs": [],
   "source": [
    "series.plot()\n",
    "plt.title('Battery: Number of Chicago Cases')\n",
    "plt.show()"
   ]
  },
  {
   "cell_type": "markdown",
   "id": "bbf997d1-817e-4f7d-9f9c-e1ea1e687b67",
   "metadata": {},
   "source": [
    "### Inspecting Seasonality"
   ]
  },
  {
   "cell_type": "code",
   "execution_count": null,
   "id": "6a25a6a1-9105-4cb4-8fcf-e19fa4682c76",
   "metadata": {},
   "outputs": [],
   "source": [
    "plot_acf(series, max_lag=24, alpha=0.05)\n",
    "plt.title('Battery ACF Plot')\n",
    "plt.show()"
   ]
  },
  {
   "cell_type": "code",
   "execution_count": null,
   "id": "ee88504c-c591-42a0-acb9-53bf3d0feb8f",
   "metadata": {},
   "outputs": [],
   "source": [
    "for m in range(2, 25):\n",
    "    is_seasonal, period = check_seasonality(series, m=m, alpha=0.05)\n",
    "    if is_seasonal:\n",
    "        print(f'There is seasonality of order {period}.')\n",
    "print('\\n')"
   ]
  },
  {
   "cell_type": "markdown",
   "id": "4615f281-47cb-40aa-9bb9-32a6e1db5b46",
   "metadata": {},
   "source": [
    "### Creating Models"
   ]
  },
  {
   "cell_type": "code",
   "execution_count": null,
   "id": "b87f50bd-4e15-455e-aa7f-20fc896aec72",
   "metadata": {},
   "outputs": [],
   "source": [
    "# list of models\n",
    "list_models = [\n",
    "    ExponentialSmoothing(),\n",
    "    AutoARIMA(),\n",
    "    Theta(),\n",
    "    Prophet(\n",
    "        yearly_seasonality=True),\n",
    "    NaiveMean(),\n",
    "    NaiveDrift(),\n",
    "    NaiveSeasonal()]"
   ]
  },
  {
   "cell_type": "code",
   "execution_count": null,
   "id": "d1cbc4d5-e1e5-4790-9dda-6a3bcb5907ed",
   "metadata": {},
   "outputs": [],
   "source": [
    "# cleaning up model name\n",
    "list_models_names = []\n",
    "\n",
    "for model in list_models:\n",
    "    model_name = str(model)\n",
    "    if model_name.startswith('ExponentialSmoothing'):\n",
    "        model_name = model_name.split('(trend', 1)[0]\n",
    "    list_models_names.append(model_name)\n",
    "    \n",
    "print(list_models_names)"
   ]
  },
  {
   "cell_type": "code",
   "execution_count": null,
   "id": "d983ffc4-bc72-4b9f-bdde-717e0e0ddba4",
   "metadata": {},
   "outputs": [],
   "source": [
    "# creating metrics evaluation function\n",
    "def eval_model(model):\n",
    "    t_start = time.perf_counter()\n",
    "    print(f'Beginning: {str(model)} Elapsed Time')\n",
    "    \n",
    "    # creating training and validation datasets\n",
    "    train, val = series.split_before(date_start)\n",
    "    \n",
    "    # fitting model and computing predictions\n",
    "    result_model = model.fit(train)\n",
    "    forecast = model.predict(len(val))\n",
    "    \n",
    "    # computing accuracy metrics\n",
    "    result_mape = mape(val, forecast)\n",
    "    result_mae = mae(val, forecast)\n",
    "    result_rmse = rmse(val, forecast)\n",
    "    try:\n",
    "        result_mase = mase(val, forecast, insample=train)\n",
    "    except TypeError:\n",
    "        print('Insample argument error.')\n",
    "    result_time = time.perf_counter() - t_start\n",
    "    \n",
    "    result_accuracy = {\n",
    "        'MAPE': result_mape,\n",
    "        'MAE': result_mae,\n",
    "        'RMSE': result_rmse,\n",
    "        'MASE': result_mase}\n",
    "    \n",
    "    results = [forecast, result_accuracy]\n",
    "    print(f'Completed: {str(model)} : {str(result_time)} seconds')\n",
    "    return results"
   ]
  },
  {
   "cell_type": "markdown",
   "id": "7ce574fe-80f7-40fd-8cb2-4393da9012a5",
   "metadata": {},
   "source": [
    "### Accuracy of Forecast Models"
   ]
  },
  {
   "cell_type": "code",
   "execution_count": null,
   "id": "d385f7be-4815-4b53-bf7f-402c8740eb43",
   "metadata": {
    "tags": []
   },
   "outputs": [],
   "source": [
    "# empty dataframe to store results\n",
    "df_results = pd.DataFrame()\n",
    "\n",
    "# running metric evaluations function\n",
    "for (m, name) in zip(list_models, list_models_names):\n",
    "    if name != 'Naive mean predictor model':\n",
    "        model_predictions = eval_model(m)\n",
    "\n",
    "        # tabulating prediction accuracy\n",
    "        df_accuracy = pd.DataFrame(\n",
    "            {'primary_type': 'theft',\n",
    "             'model_name': name,\n",
    "             'metric': model_predictions[1].keys(),\n",
    "             'score': model_predictions[1].values()})\n",
    "\n",
    "        df_accuracy = (\n",
    "            df_accuracy.pivot(\n",
    "                index=['primary_type', 'model_name'],\n",
    "                columns='metric',\n",
    "                values='score')\n",
    "            .reset_index())\n",
    "\n",
    "        # appending results\n",
    "        df_results = df_results.append(df_accuracy)"
   ]
  },
  {
   "cell_type": "code",
   "execution_count": null,
   "id": "ff8e70e7-a7fe-4b6b-a572-7b2695aee4fe",
   "metadata": {},
   "outputs": [],
   "source": [
    "# setting index and highlighting lowest values\n",
    "df_results = df_results.set_index(['primary_type', 'model_name'])\n",
    "df_results.style.highlight_min(color = 'lightgreen', axis = 0)"
   ]
  }
 ],
 "metadata": {
  "kernelspec": {
   "display_name": "Python [conda env:darts_forecasting] *",
   "language": "python",
   "name": "conda-env-darts_forecasting-py"
  },
  "language_info": {
   "codemirror_mode": {
    "name": "ipython",
    "version": 3
   },
   "file_extension": ".py",
   "mimetype": "text/x-python",
   "name": "python",
   "nbconvert_exporter": "python",
   "pygments_lexer": "ipython3",
   "version": "3.10.9"
  }
 },
 "nbformat": 4,
 "nbformat_minor": 5
}
